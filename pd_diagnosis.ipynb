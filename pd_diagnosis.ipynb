{
 "cells": [
  {
   "cell_type": "markdown",
   "metadata": {
    "colab_type": "text",
    "id": "GHBVGvwRoaz3"
   },
   "source": [
    "# Parkinson diagnosis\n"
   ]
  },
  {
   "cell_type": "markdown",
   "metadata": {
    "colab_type": "text",
    "id": "Ty2kWIiyorbR"
   },
   "source": [
    "This notebooks builds and compares the performance of several machine learning models for the diagnosis of Parkinson disease from a speech features dataset"
   ]
  },
  {
   "cell_type": "markdown",
   "metadata": {
    "colab_type": "text",
    "id": "LRa_q6fNUyjS"
   },
   "source": [
    "## Problem statement\n",
    "\n",
    "The problem in hand is a binary classification problem involving a large number of features. Here the inputs are some characteristics of speech (related for example to time frequency, wavelets transformation,... ), while the output is binary, i.e 1 for patients diagnosed with a Parkinson disease or 0 for control participants. \n",
    "\n",
    "So the method to approach this would be to understand the significance of the features, execute some strategies for feature reduction, apply several binary classification algorithms and compare there performances.  \n",
    "\n",
    "In short, the objective of this study is to build a predictive model for the diagnosis of Parkinson disease."
   ]
  },
  {
   "cell_type": "markdown",
   "metadata": {
    "colab_type": "text",
    "id": "PV8Z4OYtpOaY"
   },
   "source": [
    "## Loading packages"
   ]
  },
  {
   "cell_type": "code",
   "execution_count": 20,
   "metadata": {
    "colab": {
     "base_uri": "https://localhost:8080/",
     "height": 34
    },
    "colab_type": "code",
    "id": "d3TfWnWyoXKG",
    "outputId": "c3088862-d514-49e0-90e1-8839f739c6d0"
   },
   "outputs": [
    {
     "name": "stdout",
     "output_type": "stream",
     "text": [
      "Populating the interactive namespace from numpy and matplotlib\n"
     ]
    }
   ],
   "source": [
    "#from __future__ import absolute_import, division, print_function, unicode_literals\n",
    "\n",
    "\n",
    "\n",
    "# Helper libraries\n",
    "import csv \n",
    "import collections\n",
    "import pandas as pd\n",
    "%pylab inline\n",
    "import numpy as np\n",
    "import matplotlib.pyplot as plt\n",
    "## ou remplacer les 2 lignes précédente par: %pylab inline\n",
    "\n",
    "import seaborn as sb\n",
    "\n",
    "import warnings\n",
    "\n",
    "from sklearn import preprocessing\n",
    "from sklearn import feature_selection\n",
    "from sklearn import model_selection\n",
    "\n",
    "from sklearn.preprocessing import StandardScaler\n",
    "from sklearn.pipeline import Pipeline, FeatureUnion\n",
    "from sklearn.decomposition import PCA\n",
    "from sklearn.feature_selection import SelectKBest, f_classif\n",
    "\n",
    "from sklearn.linear_model import LogisticRegression\n",
    "from sklearn.neighbors import KNeighborsClassifier\n",
    "from sklearn.tree import DecisionTreeClassifier\n",
    "\n",
    "from sklearn.model_selection import train_test_split, GridSearchCV, cross_validate\n",
    "\n",
    "\n"
   ]
  },
  {
   "cell_type": "markdown",
   "metadata": {
    "colab_type": "text",
    "id": "cpUhldLC3x7A"
   },
   "source": [
    "# Load and explore the data"
   ]
  },
  {
   "cell_type": "code",
   "execution_count": 4,
   "metadata": {
    "colab": {
     "base_uri": "https://localhost:8080/",
     "height": 313
    },
    "colab_type": "code",
    "id": "dvcYyg_j31NT",
    "outputId": "3de76dfe-d83e-4425-aa4b-b83a4f177284"
   },
   "outputs": [
    {
     "data": {
      "text/html": [
       "<div>\n",
       "<style scoped>\n",
       "    .dataframe tbody tr th:only-of-type {\n",
       "        vertical-align: middle;\n",
       "    }\n",
       "\n",
       "    .dataframe tbody tr th {\n",
       "        vertical-align: top;\n",
       "    }\n",
       "\n",
       "    .dataframe thead th {\n",
       "        text-align: right;\n",
       "    }\n",
       "</style>\n",
       "<table border=\"1\" class=\"dataframe\">\n",
       "  <thead>\n",
       "    <tr style=\"text-align: right;\">\n",
       "      <th></th>\n",
       "      <th>id</th>\n",
       "      <th>gender</th>\n",
       "      <th>PPE</th>\n",
       "      <th>DFA</th>\n",
       "      <th>RPDE</th>\n",
       "      <th>numPulses</th>\n",
       "      <th>numPeriodsPulses</th>\n",
       "      <th>meanPeriodPulses</th>\n",
       "      <th>stdDevPeriodPulses</th>\n",
       "      <th>locPctJitter</th>\n",
       "      <th>...</th>\n",
       "      <th>tqwt_kurtosisValue_dec_28</th>\n",
       "      <th>tqwt_kurtosisValue_dec_29</th>\n",
       "      <th>tqwt_kurtosisValue_dec_30</th>\n",
       "      <th>tqwt_kurtosisValue_dec_31</th>\n",
       "      <th>tqwt_kurtosisValue_dec_32</th>\n",
       "      <th>tqwt_kurtosisValue_dec_33</th>\n",
       "      <th>tqwt_kurtosisValue_dec_34</th>\n",
       "      <th>tqwt_kurtosisValue_dec_35</th>\n",
       "      <th>tqwt_kurtosisValue_dec_36</th>\n",
       "      <th>class</th>\n",
       "    </tr>\n",
       "  </thead>\n",
       "  <tbody>\n",
       "    <tr>\n",
       "      <td>0</td>\n",
       "      <td>0</td>\n",
       "      <td>1</td>\n",
       "      <td>0.85247</td>\n",
       "      <td>0.71826</td>\n",
       "      <td>0.57227</td>\n",
       "      <td>240</td>\n",
       "      <td>239</td>\n",
       "      <td>0.008064</td>\n",
       "      <td>0.000087</td>\n",
       "      <td>0.00218</td>\n",
       "      <td>...</td>\n",
       "      <td>1.5620</td>\n",
       "      <td>2.6445</td>\n",
       "      <td>3.8686</td>\n",
       "      <td>4.2105</td>\n",
       "      <td>5.1221</td>\n",
       "      <td>4.4625</td>\n",
       "      <td>2.6202</td>\n",
       "      <td>3.0004</td>\n",
       "      <td>18.9405</td>\n",
       "      <td>1</td>\n",
       "    </tr>\n",
       "    <tr>\n",
       "      <td>1</td>\n",
       "      <td>0</td>\n",
       "      <td>1</td>\n",
       "      <td>0.76686</td>\n",
       "      <td>0.69481</td>\n",
       "      <td>0.53966</td>\n",
       "      <td>234</td>\n",
       "      <td>233</td>\n",
       "      <td>0.008258</td>\n",
       "      <td>0.000073</td>\n",
       "      <td>0.00195</td>\n",
       "      <td>...</td>\n",
       "      <td>1.5589</td>\n",
       "      <td>3.6107</td>\n",
       "      <td>23.5155</td>\n",
       "      <td>14.1962</td>\n",
       "      <td>11.0261</td>\n",
       "      <td>9.5082</td>\n",
       "      <td>6.5245</td>\n",
       "      <td>6.3431</td>\n",
       "      <td>45.1780</td>\n",
       "      <td>1</td>\n",
       "    </tr>\n",
       "    <tr>\n",
       "      <td>2</td>\n",
       "      <td>0</td>\n",
       "      <td>1</td>\n",
       "      <td>0.85083</td>\n",
       "      <td>0.67604</td>\n",
       "      <td>0.58982</td>\n",
       "      <td>232</td>\n",
       "      <td>231</td>\n",
       "      <td>0.008340</td>\n",
       "      <td>0.000060</td>\n",
       "      <td>0.00176</td>\n",
       "      <td>...</td>\n",
       "      <td>1.5643</td>\n",
       "      <td>2.3308</td>\n",
       "      <td>9.4959</td>\n",
       "      <td>10.7458</td>\n",
       "      <td>11.0177</td>\n",
       "      <td>4.8066</td>\n",
       "      <td>2.9199</td>\n",
       "      <td>3.1495</td>\n",
       "      <td>4.7666</td>\n",
       "      <td>1</td>\n",
       "    </tr>\n",
       "    <tr>\n",
       "      <td>3</td>\n",
       "      <td>1</td>\n",
       "      <td>0</td>\n",
       "      <td>0.41121</td>\n",
       "      <td>0.79672</td>\n",
       "      <td>0.59257</td>\n",
       "      <td>178</td>\n",
       "      <td>177</td>\n",
       "      <td>0.010858</td>\n",
       "      <td>0.000183</td>\n",
       "      <td>0.00419</td>\n",
       "      <td>...</td>\n",
       "      <td>3.7805</td>\n",
       "      <td>3.5664</td>\n",
       "      <td>5.2558</td>\n",
       "      <td>14.0403</td>\n",
       "      <td>4.2235</td>\n",
       "      <td>4.6857</td>\n",
       "      <td>4.8460</td>\n",
       "      <td>6.2650</td>\n",
       "      <td>4.0603</td>\n",
       "      <td>1</td>\n",
       "    </tr>\n",
       "    <tr>\n",
       "      <td>4</td>\n",
       "      <td>1</td>\n",
       "      <td>0</td>\n",
       "      <td>0.32790</td>\n",
       "      <td>0.79782</td>\n",
       "      <td>0.53028</td>\n",
       "      <td>236</td>\n",
       "      <td>235</td>\n",
       "      <td>0.008162</td>\n",
       "      <td>0.002669</td>\n",
       "      <td>0.00535</td>\n",
       "      <td>...</td>\n",
       "      <td>6.1727</td>\n",
       "      <td>5.8416</td>\n",
       "      <td>6.0805</td>\n",
       "      <td>5.7621</td>\n",
       "      <td>7.7817</td>\n",
       "      <td>11.6891</td>\n",
       "      <td>8.2103</td>\n",
       "      <td>5.0559</td>\n",
       "      <td>6.1164</td>\n",
       "      <td>1</td>\n",
       "    </tr>\n",
       "  </tbody>\n",
       "</table>\n",
       "<p>5 rows × 755 columns</p>\n",
       "</div>"
      ],
      "text/plain": [
       "   id  gender      PPE      DFA     RPDE  numPulses  numPeriodsPulses  \\\n",
       "0   0       1  0.85247  0.71826  0.57227        240               239   \n",
       "1   0       1  0.76686  0.69481  0.53966        234               233   \n",
       "2   0       1  0.85083  0.67604  0.58982        232               231   \n",
       "3   1       0  0.41121  0.79672  0.59257        178               177   \n",
       "4   1       0  0.32790  0.79782  0.53028        236               235   \n",
       "\n",
       "   meanPeriodPulses  stdDevPeriodPulses  locPctJitter  ...  \\\n",
       "0          0.008064            0.000087       0.00218  ...   \n",
       "1          0.008258            0.000073       0.00195  ...   \n",
       "2          0.008340            0.000060       0.00176  ...   \n",
       "3          0.010858            0.000183       0.00419  ...   \n",
       "4          0.008162            0.002669       0.00535  ...   \n",
       "\n",
       "   tqwt_kurtosisValue_dec_28  tqwt_kurtosisValue_dec_29  \\\n",
       "0                     1.5620                     2.6445   \n",
       "1                     1.5589                     3.6107   \n",
       "2                     1.5643                     2.3308   \n",
       "3                     3.7805                     3.5664   \n",
       "4                     6.1727                     5.8416   \n",
       "\n",
       "   tqwt_kurtosisValue_dec_30  tqwt_kurtosisValue_dec_31  \\\n",
       "0                     3.8686                     4.2105   \n",
       "1                    23.5155                    14.1962   \n",
       "2                     9.4959                    10.7458   \n",
       "3                     5.2558                    14.0403   \n",
       "4                     6.0805                     5.7621   \n",
       "\n",
       "   tqwt_kurtosisValue_dec_32  tqwt_kurtosisValue_dec_33  \\\n",
       "0                     5.1221                     4.4625   \n",
       "1                    11.0261                     9.5082   \n",
       "2                    11.0177                     4.8066   \n",
       "3                     4.2235                     4.6857   \n",
       "4                     7.7817                    11.6891   \n",
       "\n",
       "   tqwt_kurtosisValue_dec_34  tqwt_kurtosisValue_dec_35  \\\n",
       "0                     2.6202                     3.0004   \n",
       "1                     6.5245                     6.3431   \n",
       "2                     2.9199                     3.1495   \n",
       "3                     4.8460                     6.2650   \n",
       "4                     8.2103                     5.0559   \n",
       "\n",
       "   tqwt_kurtosisValue_dec_36  class  \n",
       "0                    18.9405      1  \n",
       "1                    45.1780      1  \n",
       "2                     4.7666      1  \n",
       "3                     4.0603      1  \n",
       "4                     6.1164      1  \n",
       "\n",
       "[5 rows x 755 columns]"
      ]
     },
     "execution_count": 4,
     "metadata": {},
     "output_type": "execute_result"
    }
   ],
   "source": [
    "# Read and store the data in a dataframe\n",
    "data = pd.read_csv('data/pd_speech_features.csv', skiprows=1)\n",
    "\n",
    "# Visualize dataframe first rows \n",
    "data.head()"
   ]
  },
  {
   "cell_type": "code",
   "execution_count": 5,
   "metadata": {
    "colab": {
     "base_uri": "https://localhost:8080/",
     "height": 102
    },
    "colab_type": "code",
    "id": "OiscY_ot4DGJ",
    "outputId": "3d2bc300-b393-4cd0-f2dd-2e8cb2613358"
   },
   "outputs": [
    {
     "name": "stdout",
     "output_type": "stream",
     "text": [
      "<class 'pandas.core.frame.DataFrame'>\n",
      "RangeIndex: 756 entries, 0 to 755\n",
      "Columns: 755 entries, id to class\n",
      "dtypes: float64(749), int64(6)\n",
      "memory usage: 4.4 MB\n"
     ]
    }
   ],
   "source": [
    "data.info()"
   ]
  },
  {
   "cell_type": "code",
   "execution_count": 6,
   "metadata": {
    "colab": {
     "base_uri": "https://localhost:8080/",
     "height": 296
    },
    "colab_type": "code",
    "id": "EVwMLX6uqnLU",
    "outputId": "39b318be-1545-4487-eaaa-0db19f1da0fe"
   },
   "outputs": [
    {
     "data": {
      "text/plain": [
       "<matplotlib.axes._subplots.AxesSubplot at 0x1a1852fa10>"
      ]
     },
     "execution_count": 6,
     "metadata": {},
     "output_type": "execute_result"
    },
    {
     "data": {
      "image/png": "[encoded data removed]",
      "text/plain": [
       "<Figure size 432x288 with 1 Axes>"
      ]
     },
     "metadata": {
      "needs_background": "light"
     },
     "output_type": "display_data"
    }
   ],
   "source": [
    "sb.countplot(x=\"class\", hue=\"gender\", data=data)"
   ]
  },
  {
   "cell_type": "markdown",
   "metadata": {
    "colab_type": "text",
    "id": "buPS86ih4okU"
   },
   "source": [
    "The dataset has 756 rows ((188+64)*3) and 755 columns. Amongst the 755 columns, the first one is an `id` number (from 0 to 251), the second one is the `gender` of participant (0=female, 1=male) and the last one is the `class` (0=control, 1=patient). The other 753 columns correspond to various features extracted with voice signal processing algorithms and related to five main categories: \n",
    "\n",
    "\n",
    "*   Time frequency characteristics\n",
    "*   Mel frequency cephalic coefficients (MFCCs)\n",
    "*   Wavelet transformation-based characteristics\n",
    "*   Voice fold characteristics\n",
    "*   TQWT characteristics\n",
    "\n",
    "All feature have numerical values (float or int types). \n",
    "\n",
    "The class distribution of the samples is such that 546 are patients and 192 are control participants, which is imbalanced.\n",
    "\n",
    "\n",
    "\n",
    "\n",
    "\n",
    "\n"
   ]
  },
  {
   "cell_type": "markdown",
   "metadata": {
    "colab_type": "text",
    "id": "2l_ZmWw3-1oF"
   },
   "source": [
    "## Separate data in labels and features"
   ]
  },
  {
   "cell_type": "code",
   "execution_count": 7,
   "metadata": {
    "colab": {},
    "colab_type": "code",
    "id": "uSPWuvqC-6dc"
   },
   "outputs": [],
   "source": [
    "y = data['class']\n",
    "X = data.drop(['class','id'],axis=1)"
   ]
  },
  {
   "cell_type": "markdown",
   "metadata": {
    "colab_type": "text",
    "id": "J1s7BVJr_KRz"
   },
   "source": [
    "# Feature selection"
   ]
  },
  {
   "cell_type": "markdown",
   "metadata": {
    "colab_type": "text",
    "id": "5MyFeTjhSdE3"
   },
   "source": [
    "The dataset provides 753 features, which is a large number and can lead to two major problems: \n",
    "\n",
    "\n",
    "1.   First, the more features you have, the more likely you are to overfit to the training and validation sets. This will cause your model to perform worse at generalizing to new data.\n",
    "2.   Secondly, the more features you have, the longer it will take to train your model and optimize hyperparameters. Also, when building user-facing products, you'll want to make inference as fast as possible. Using fewer features can speed up inference at the cost of predictive performance.\n",
    "\n",
    "To help with these issues, we want to use feature selection techniques to keep the most informative features for our model."
   ]
  },
  {
   "cell_type": "code",
   "execution_count": 8,
   "metadata": {
    "colab": {
     "base_uri": "https://localhost:8080/",
     "height": 426
    },
    "colab_type": "code",
    "id": "mig4dkKF6OvA",
    "outputId": "11c78ba2-fa44-4165-c4f1-b8be50b7aed4"
   },
   "outputs": [
    {
     "data": {
      "text/html": [
       "<div>\n",
       "<style scoped>\n",
       "    .dataframe tbody tr th:only-of-type {\n",
       "        vertical-align: middle;\n",
       "    }\n",
       "\n",
       "    .dataframe tbody tr th {\n",
       "        vertical-align: top;\n",
       "    }\n",
       "\n",
       "    .dataframe thead th {\n",
       "        text-align: right;\n",
       "    }\n",
       "</style>\n",
       "<table border=\"1\" class=\"dataframe\">\n",
       "  <thead>\n",
       "    <tr style=\"text-align: right;\">\n",
       "      <th></th>\n",
       "      <th>gender</th>\n",
       "      <th>PPE</th>\n",
       "      <th>DFA</th>\n",
       "      <th>RPDE</th>\n",
       "      <th>numPulses</th>\n",
       "      <th>numPeriodsPulses</th>\n",
       "      <th>meanPeriodPulses</th>\n",
       "      <th>stdDevPeriodPulses</th>\n",
       "      <th>locPctJitter</th>\n",
       "      <th>locAbsJitter</th>\n",
       "      <th>...</th>\n",
       "      <th>tqwt_kurtosisValue_dec_27</th>\n",
       "      <th>tqwt_kurtosisValue_dec_28</th>\n",
       "      <th>tqwt_kurtosisValue_dec_29</th>\n",
       "      <th>tqwt_kurtosisValue_dec_30</th>\n",
       "      <th>tqwt_kurtosisValue_dec_31</th>\n",
       "      <th>tqwt_kurtosisValue_dec_32</th>\n",
       "      <th>tqwt_kurtosisValue_dec_33</th>\n",
       "      <th>tqwt_kurtosisValue_dec_34</th>\n",
       "      <th>tqwt_kurtosisValue_dec_35</th>\n",
       "      <th>tqwt_kurtosisValue_dec_36</th>\n",
       "    </tr>\n",
       "  </thead>\n",
       "  <tbody>\n",
       "    <tr>\n",
       "      <td>count</td>\n",
       "      <td>756.000000</td>\n",
       "      <td>756.000000</td>\n",
       "      <td>756.000000</td>\n",
       "      <td>756.000000</td>\n",
       "      <td>756.000000</td>\n",
       "      <td>756.000000</td>\n",
       "      <td>756.000000</td>\n",
       "      <td>756.000000</td>\n",
       "      <td>756.000000</td>\n",
       "      <td>7.560000e+02</td>\n",
       "      <td>...</td>\n",
       "      <td>756.000000</td>\n",
       "      <td>756.000000</td>\n",
       "      <td>756.000000</td>\n",
       "      <td>756.000000</td>\n",
       "      <td>756.000000</td>\n",
       "      <td>756.000000</td>\n",
       "      <td>756.000000</td>\n",
       "      <td>756.000000</td>\n",
       "      <td>756.000000</td>\n",
       "      <td>756.000000</td>\n",
       "    </tr>\n",
       "    <tr>\n",
       "      <td>mean</td>\n",
       "      <td>0.515873</td>\n",
       "      <td>0.746284</td>\n",
       "      <td>0.700414</td>\n",
       "      <td>0.489058</td>\n",
       "      <td>323.972222</td>\n",
       "      <td>322.678571</td>\n",
       "      <td>0.006360</td>\n",
       "      <td>0.000383</td>\n",
       "      <td>0.002324</td>\n",
       "      <td>1.673391e-05</td>\n",
       "      <td>...</td>\n",
       "      <td>21.026054</td>\n",
       "      <td>26.237251</td>\n",
       "      <td>22.840337</td>\n",
       "      <td>18.587888</td>\n",
       "      <td>13.872018</td>\n",
       "      <td>12.218953</td>\n",
       "      <td>12.375335</td>\n",
       "      <td>14.799230</td>\n",
       "      <td>14.751559</td>\n",
       "      <td>31.481110</td>\n",
       "    </tr>\n",
       "    <tr>\n",
       "      <td>std</td>\n",
       "      <td>0.500079</td>\n",
       "      <td>0.169294</td>\n",
       "      <td>0.069718</td>\n",
       "      <td>0.137442</td>\n",
       "      <td>99.219059</td>\n",
       "      <td>99.402499</td>\n",
       "      <td>0.001826</td>\n",
       "      <td>0.000728</td>\n",
       "      <td>0.002628</td>\n",
       "      <td>2.290134e-05</td>\n",
       "      <td>...</td>\n",
       "      <td>43.716898</td>\n",
       "      <td>42.220693</td>\n",
       "      <td>32.626464</td>\n",
       "      <td>25.537464</td>\n",
       "      <td>20.046029</td>\n",
       "      <td>17.783642</td>\n",
       "      <td>16.341665</td>\n",
       "      <td>15.722502</td>\n",
       "      <td>14.432979</td>\n",
       "      <td>34.230991</td>\n",
       "    </tr>\n",
       "    <tr>\n",
       "      <td>min</td>\n",
       "      <td>0.000000</td>\n",
       "      <td>0.041551</td>\n",
       "      <td>0.543500</td>\n",
       "      <td>0.154300</td>\n",
       "      <td>2.000000</td>\n",
       "      <td>1.000000</td>\n",
       "      <td>0.002107</td>\n",
       "      <td>0.000011</td>\n",
       "      <td>0.000210</td>\n",
       "      <td>6.860000e-07</td>\n",
       "      <td>...</td>\n",
       "      <td>1.342700</td>\n",
       "      <td>1.509800</td>\n",
       "      <td>1.531700</td>\n",
       "      <td>1.582900</td>\n",
       "      <td>1.747200</td>\n",
       "      <td>1.789500</td>\n",
       "      <td>1.628700</td>\n",
       "      <td>1.861700</td>\n",
       "      <td>1.955900</td>\n",
       "      <td>2.364000</td>\n",
       "    </tr>\n",
       "    <tr>\n",
       "      <td>25%</td>\n",
       "      <td>0.000000</td>\n",
       "      <td>0.762833</td>\n",
       "      <td>0.647053</td>\n",
       "      <td>0.386537</td>\n",
       "      <td>251.000000</td>\n",
       "      <td>250.000000</td>\n",
       "      <td>0.005003</td>\n",
       "      <td>0.000049</td>\n",
       "      <td>0.000970</td>\n",
       "      <td>5.260000e-06</td>\n",
       "      <td>...</td>\n",
       "      <td>1.814850</td>\n",
       "      <td>2.408675</td>\n",
       "      <td>3.452800</td>\n",
       "      <td>3.354825</td>\n",
       "      <td>3.077450</td>\n",
       "      <td>2.937025</td>\n",
       "      <td>3.114375</td>\n",
       "      <td>3.665925</td>\n",
       "      <td>3.741275</td>\n",
       "      <td>3.948750</td>\n",
       "    </tr>\n",
       "    <tr>\n",
       "      <td>50%</td>\n",
       "      <td>1.000000</td>\n",
       "      <td>0.809655</td>\n",
       "      <td>0.700525</td>\n",
       "      <td>0.484355</td>\n",
       "      <td>317.000000</td>\n",
       "      <td>316.000000</td>\n",
       "      <td>0.006048</td>\n",
       "      <td>0.000077</td>\n",
       "      <td>0.001495</td>\n",
       "      <td>9.530000e-06</td>\n",
       "      <td>...</td>\n",
       "      <td>3.075050</td>\n",
       "      <td>5.586300</td>\n",
       "      <td>7.062750</td>\n",
       "      <td>6.077400</td>\n",
       "      <td>4.770850</td>\n",
       "      <td>4.300450</td>\n",
       "      <td>4.741450</td>\n",
       "      <td>6.725700</td>\n",
       "      <td>7.334250</td>\n",
       "      <td>10.637250</td>\n",
       "    </tr>\n",
       "    <tr>\n",
       "      <td>75%</td>\n",
       "      <td>1.000000</td>\n",
       "      <td>0.834315</td>\n",
       "      <td>0.754985</td>\n",
       "      <td>0.586515</td>\n",
       "      <td>384.250000</td>\n",
       "      <td>383.250000</td>\n",
       "      <td>0.007528</td>\n",
       "      <td>0.000171</td>\n",
       "      <td>0.002520</td>\n",
       "      <td>1.832500e-05</td>\n",
       "      <td>...</td>\n",
       "      <td>12.129975</td>\n",
       "      <td>28.958075</td>\n",
       "      <td>29.830850</td>\n",
       "      <td>21.944050</td>\n",
       "      <td>13.188000</td>\n",
       "      <td>10.876150</td>\n",
       "      <td>12.201325</td>\n",
       "      <td>21.922050</td>\n",
       "      <td>22.495175</td>\n",
       "      <td>61.125325</td>\n",
       "    </tr>\n",
       "    <tr>\n",
       "      <td>max</td>\n",
       "      <td>1.000000</td>\n",
       "      <td>0.907660</td>\n",
       "      <td>0.852640</td>\n",
       "      <td>0.871230</td>\n",
       "      <td>907.000000</td>\n",
       "      <td>905.000000</td>\n",
       "      <td>0.012966</td>\n",
       "      <td>0.003483</td>\n",
       "      <td>0.027750</td>\n",
       "      <td>2.564800e-04</td>\n",
       "      <td>...</td>\n",
       "      <td>355.516100</td>\n",
       "      <td>239.788800</td>\n",
       "      <td>203.311300</td>\n",
       "      <td>121.542900</td>\n",
       "      <td>102.207000</td>\n",
       "      <td>85.571700</td>\n",
       "      <td>73.532200</td>\n",
       "      <td>62.007300</td>\n",
       "      <td>57.544300</td>\n",
       "      <td>156.423700</td>\n",
       "    </tr>\n",
       "  </tbody>\n",
       "</table>\n",
       "<p>8 rows × 753 columns</p>\n",
       "</div>"
      ],
      "text/plain": [
       "           gender         PPE         DFA        RPDE   numPulses  \\\n",
       "count  756.000000  756.000000  756.000000  756.000000  756.000000   \n",
       "mean     0.515873    0.746284    0.700414    0.489058  323.972222   \n",
       "std      0.500079    0.169294    0.069718    0.137442   99.219059   \n",
       "min      0.000000    0.041551    0.543500    0.154300    2.000000   \n",
       "25%      0.000000    0.762833    0.647053    0.386537  251.000000   \n",
       "50%      1.000000    0.809655    0.700525    0.484355  317.000000   \n",
       "75%      1.000000    0.834315    0.754985    0.586515  384.250000   \n",
       "max      1.000000    0.907660    0.852640    0.871230  907.000000   \n",
       "\n",
       "       numPeriodsPulses  meanPeriodPulses  stdDevPeriodPulses  locPctJitter  \\\n",
       "count        756.000000        756.000000          756.000000    756.000000   \n",
       "mean         322.678571          0.006360            0.000383      0.002324   \n",
       "std           99.402499          0.001826            0.000728      0.002628   \n",
       "min            1.000000          0.002107            0.000011      0.000210   \n",
       "25%          250.000000          0.005003            0.000049      0.000970   \n",
       "50%          316.000000          0.006048            0.000077      0.001495   \n",
       "75%          383.250000          0.007528            0.000171      0.002520   \n",
       "max          905.000000          0.012966            0.003483      0.027750   \n",
       "\n",
       "       locAbsJitter  ...  tqwt_kurtosisValue_dec_27  \\\n",
       "count  7.560000e+02  ...                 756.000000   \n",
       "mean   1.673391e-05  ...                  21.026054   \n",
       "std    2.290134e-05  ...                  43.716898   \n",
       "min    6.860000e-07  ...                   1.342700   \n",
       "25%    5.260000e-06  ...                   1.814850   \n",
       "50%    9.530000e-06  ...                   3.075050   \n",
       "75%    1.832500e-05  ...                  12.129975   \n",
       "max    2.564800e-04  ...                 355.516100   \n",
       "\n",
       "       tqwt_kurtosisValue_dec_28  tqwt_kurtosisValue_dec_29  \\\n",
       "count                 756.000000                 756.000000   \n",
       "mean                   26.237251                  22.840337   \n",
       "std                    42.220693                  32.626464   \n",
       "min                     1.509800                   1.531700   \n",
       "25%                     2.408675                   3.452800   \n",
       "50%                     5.586300                   7.062750   \n",
       "75%                    28.958075                  29.830850   \n",
       "max                   239.788800                 203.311300   \n",
       "\n",
       "       tqwt_kurtosisValue_dec_30  tqwt_kurtosisValue_dec_31  \\\n",
       "count                 756.000000                 756.000000   \n",
       "mean                   18.587888                  13.872018   \n",
       "std                    25.537464                  20.046029   \n",
       "min                     1.582900                   1.747200   \n",
       "25%                     3.354825                   3.077450   \n",
       "50%                     6.077400                   4.770850   \n",
       "75%                    21.944050                  13.188000   \n",
       "max                   121.542900                 102.207000   \n",
       "\n",
       "       tqwt_kurtosisValue_dec_32  tqwt_kurtosisValue_dec_33  \\\n",
       "count                 756.000000                 756.000000   \n",
       "mean                   12.218953                  12.375335   \n",
       "std                    17.783642                  16.341665   \n",
       "min                     1.789500                   1.628700   \n",
       "25%                     2.937025                   3.114375   \n",
       "50%                     4.300450                   4.741450   \n",
       "75%                    10.876150                  12.201325   \n",
       "max                    85.571700                  73.532200   \n",
       "\n",
       "       tqwt_kurtosisValue_dec_34  tqwt_kurtosisValue_dec_35  \\\n",
       "count                 756.000000                 756.000000   \n",
       "mean                   14.799230                  14.751559   \n",
       "std                    15.722502                  14.432979   \n",
       "min                     1.861700                   1.955900   \n",
       "25%                     3.665925                   3.741275   \n",
       "50%                     6.725700                   7.334250   \n",
       "75%                    21.922050                  22.495175   \n",
       "max                    62.007300                  57.544300   \n",
       "\n",
       "       tqwt_kurtosisValue_dec_36  \n",
       "count                 756.000000  \n",
       "mean                   31.481110  \n",
       "std                    34.230991  \n",
       "min                     2.364000  \n",
       "25%                     3.948750  \n",
       "50%                    10.637250  \n",
       "75%                    61.125325  \n",
       "max                   156.423700  \n",
       "\n",
       "[8 rows x 753 columns]"
      ]
     },
     "execution_count": 8,
     "metadata": {},
     "output_type": "execute_result"
    }
   ],
   "source": [
    "X.describe()"
   ]
  },
  {
   "cell_type": "markdown",
   "metadata": {
    "colab_type": "text",
    "id": "ekZmf_VATZTt"
   },
   "source": [
    "The dataframe above provides us some interesting information about each feature (number of values, mean value, standard deviation,...). We will now look closely at the data to answer the following questions: \n",
    "*   Are some values missing? \n",
    "*   Do some columns contain a constant (or quasi-constant) value ? \n",
    "*   Are some columns duplicated ? \n",
    "\n",
    "\n",
    "\n"
   ]
  },
  {
   "cell_type": "markdown",
   "metadata": {
    "colab_type": "text",
    "id": "be0hf98wLZsI"
   },
   "source": [
    "## Missing values\n",
    "\n"
   ]
  },
  {
   "cell_type": "code",
   "execution_count": 9,
   "metadata": {
    "colab": {
     "base_uri": "https://localhost:8080/",
     "height": 34
    },
    "colab_type": "code",
    "id": "tzLJ_eKGLc9I",
    "outputId": "eacd0d60-84f9-4d52-e362-505305febb9f"
   },
   "outputs": [
    {
     "name": "stdout",
     "output_type": "stream",
     "text": [
      "[]\n"
     ]
    }
   ],
   "source": [
    "# Get names of columns with missing values\n",
    "cols_with_missing = [col for col in X.columns\n",
    "                     if X[col].isnull().any()]\n",
    "print(cols_with_missing)"
   ]
  },
  {
   "cell_type": "markdown",
   "metadata": {
    "colab_type": "text",
    "id": "qwUyQjBNLjw7"
   },
   "source": [
    "No missing values."
   ]
  },
  {
   "cell_type": "markdown",
   "metadata": {
    "colab_type": "text",
    "id": "CK1NuUAqLsoT"
   },
   "source": [
    "## Constant features"
   ]
  },
  {
   "cell_type": "markdown",
   "metadata": {
    "colab_type": "text",
    "id": "wWGQL5S_LyL2"
   },
   "source": [
    "Constant features are those that show the same value, just one value, for all the observations of the dataset. This is, the same value for all the rows of the dataset. These features provide no information that allows a machine learning model to discriminate or predict a target. Identifying and removing constant features. To identify constant features, we can use the VarianceThreshold function from sklearn."
   ]
  },
  {
   "cell_type": "code",
   "execution_count": 10,
   "metadata": {
    "colab": {
     "base_uri": "https://localhost:8080/",
     "height": 1000
    },
    "colab_type": "code",
    "id": "HcGqOq9UL1P7",
    "outputId": "8e839e5c-0ab9-4508-fc06-36764f4c1d0d"
   },
   "outputs": [
    {
     "data": {
      "text/plain": [
       "array([ True,  True,  True,  True,  True,  True,  True,  True,  True,\n",
       "        True,  True,  True,  True,  True,  True,  True,  True,  True,\n",
       "        True,  True,  True,  True,  True,  True,  True,  True,  True,\n",
       "        True,  True,  True,  True,  True,  True,  True,  True,  True,\n",
       "        True,  True,  True,  True,  True,  True,  True,  True,  True,\n",
       "        True,  True,  True,  True,  True,  True,  True,  True,  True,\n",
       "        True,  True,  True,  True,  True,  True,  True,  True,  True,\n",
       "        True,  True,  True,  True,  True,  True,  True,  True,  True,\n",
       "        True,  True,  True,  True,  True,  True,  True,  True,  True,\n",
       "        True,  True,  True,  True,  True,  True,  True,  True,  True,\n",
       "        True,  True,  True,  True,  True,  True,  True,  True,  True,\n",
       "        True,  True,  True,  True,  True,  True,  True,  True,  True,\n",
       "        True,  True,  True,  True,  True,  True,  True,  True,  True,\n",
       "        True,  True,  True,  True,  True,  True,  True,  True,  True,\n",
       "        True,  True,  True,  True,  True,  True,  True,  True,  True,\n",
       "        True,  True,  True,  True,  True,  True,  True,  True,  True,\n",
       "        True,  True,  True,  True,  True,  True,  True,  True,  True,\n",
       "        True,  True,  True,  True,  True,  True,  True,  True,  True,\n",
       "        True,  True,  True,  True,  True,  True,  True,  True,  True,\n",
       "        True,  True,  True,  True,  True,  True,  True,  True,  True,\n",
       "        True,  True,  True,  True,  True,  True,  True,  True,  True,\n",
       "        True,  True,  True,  True,  True,  True,  True,  True,  True,\n",
       "        True,  True,  True,  True,  True,  True,  True,  True,  True,\n",
       "        True,  True,  True,  True,  True,  True,  True,  True,  True,\n",
       "        True,  True,  True,  True,  True,  True,  True,  True,  True,\n",
       "        True,  True,  True,  True,  True,  True,  True,  True,  True,\n",
       "        True,  True,  True,  True,  True,  True,  True,  True,  True,\n",
       "        True,  True,  True,  True,  True,  True,  True,  True,  True,\n",
       "        True,  True,  True,  True,  True,  True,  True,  True,  True,\n",
       "        True,  True,  True,  True,  True,  True,  True,  True,  True,\n",
       "        True,  True,  True,  True,  True,  True,  True,  True,  True,\n",
       "        True,  True,  True,  True,  True,  True,  True,  True,  True,\n",
       "        True,  True,  True,  True,  True,  True,  True,  True,  True,\n",
       "        True,  True,  True,  True,  True,  True,  True,  True,  True,\n",
       "        True,  True,  True,  True,  True,  True,  True,  True,  True,\n",
       "        True,  True,  True,  True,  True,  True,  True,  True,  True,\n",
       "        True,  True,  True,  True,  True,  True,  True,  True,  True,\n",
       "        True,  True,  True,  True,  True,  True,  True,  True,  True,\n",
       "        True,  True,  True,  True,  True,  True,  True,  True,  True,\n",
       "        True,  True,  True,  True,  True,  True,  True,  True,  True,\n",
       "        True,  True,  True,  True,  True,  True,  True,  True,  True,\n",
       "        True,  True,  True,  True,  True,  True,  True,  True,  True,\n",
       "        True,  True,  True,  True,  True,  True,  True,  True,  True,\n",
       "        True,  True,  True,  True,  True,  True,  True,  True,  True,\n",
       "        True,  True,  True,  True,  True,  True,  True,  True,  True,\n",
       "        True,  True,  True,  True,  True,  True,  True,  True,  True,\n",
       "        True,  True,  True,  True,  True,  True,  True,  True,  True,\n",
       "        True,  True,  True,  True,  True,  True,  True,  True,  True,\n",
       "        True,  True,  True,  True,  True,  True,  True,  True,  True,\n",
       "        True,  True,  True,  True,  True,  True,  True,  True,  True,\n",
       "        True,  True,  True,  True,  True,  True,  True,  True,  True,\n",
       "        True,  True,  True,  True,  True,  True,  True,  True,  True,\n",
       "        True,  True,  True,  True,  True,  True,  True,  True,  True,\n",
       "        True,  True,  True,  True,  True,  True,  True,  True,  True,\n",
       "        True,  True,  True,  True,  True,  True,  True,  True,  True,\n",
       "        True,  True,  True,  True,  True,  True,  True,  True,  True,\n",
       "        True,  True,  True,  True,  True,  True,  True,  True,  True,\n",
       "        True,  True,  True,  True,  True,  True,  True,  True,  True,\n",
       "        True,  True,  True,  True,  True,  True,  True,  True,  True,\n",
       "        True,  True,  True,  True,  True,  True,  True,  True,  True,\n",
       "        True,  True,  True,  True,  True,  True,  True,  True,  True,\n",
       "        True,  True,  True,  True,  True,  True,  True,  True,  True,\n",
       "        True,  True,  True,  True,  True,  True,  True,  True,  True,\n",
       "        True,  True,  True,  True,  True,  True,  True,  True,  True,\n",
       "        True,  True,  True,  True,  True,  True,  True,  True,  True,\n",
       "        True,  True,  True,  True,  True,  True,  True,  True,  True,\n",
       "        True,  True,  True,  True,  True,  True,  True,  True,  True,\n",
       "        True,  True,  True,  True,  True,  True,  True,  True,  True,\n",
       "        True,  True,  True,  True,  True,  True,  True,  True,  True,\n",
       "        True,  True,  True,  True,  True,  True,  True,  True,  True,\n",
       "        True,  True,  True,  True,  True,  True,  True,  True,  True,\n",
       "        True,  True,  True,  True,  True,  True,  True,  True,  True,\n",
       "        True,  True,  True,  True,  True,  True,  True,  True,  True,\n",
       "        True,  True,  True,  True,  True,  True,  True,  True,  True,\n",
       "        True,  True,  True,  True,  True,  True,  True,  True,  True,\n",
       "        True,  True,  True,  True,  True,  True,  True,  True,  True,\n",
       "        True,  True,  True,  True,  True,  True,  True,  True,  True,\n",
       "        True,  True,  True,  True,  True,  True,  True,  True,  True,\n",
       "        True,  True,  True,  True,  True,  True,  True,  True,  True,\n",
       "        True,  True,  True,  True,  True,  True,  True,  True,  True,\n",
       "        True,  True,  True,  True,  True,  True,  True,  True,  True,\n",
       "        True,  True,  True,  True,  True,  True,  True,  True,  True,\n",
       "        True,  True,  True,  True,  True,  True,  True,  True,  True,\n",
       "        True,  True,  True,  True,  True,  True])"
      ]
     },
     "execution_count": 10,
     "metadata": {},
     "output_type": "execute_result"
    }
   ],
   "source": [
    "varModel=feature_selection.VarianceThreshold(threshold=0) #Setting variance threshold to 0 which means features that have same value in all samples.\n",
    "varModel.fit(X)\n",
    "\n",
    "constArr=varModel.get_support()\n",
    "constArr\n",
    "#get_support() return True and False value for each feature.\n",
    "#True: Not a constant feature\n",
    "#False: Constant feature(It contains same value in all samples.)"
   ]
  },
  {
   "cell_type": "markdown",
   "metadata": {
    "colab_type": "text",
    "id": "g53djEtWL72w"
   },
   "source": [
    "No feature has a constant value."
   ]
  },
  {
   "cell_type": "markdown",
   "metadata": {
    "colab_type": "text",
    "id": "3bfyUT1iVvPF"
   },
   "source": [
    "## Quasi-constant features"
   ]
  },
  {
   "cell_type": "markdown",
   "metadata": {
    "colab_type": "text",
    "id": "WqqjtCfJV4Du"
   },
   "source": [
    "Quasi-constant features are those that show the same value for the great majority of the observations of the dataset. Mostly we do not consider these features in prediting the result."
   ]
  },
  {
   "cell_type": "code",
   "execution_count": 11,
   "metadata": {
    "colab": {
     "base_uri": "https://localhost:8080/",
     "height": 34
    },
    "colab_type": "code",
    "id": "lVVPl_RsUvjx",
    "outputId": "db8b2380-2b88-41a6-a5a8-1b7a3e9872f4"
   },
   "outputs": [
    {
     "data": {
      "text/plain": [
       "['gender']"
      ]
     },
     "execution_count": 11,
     "metadata": {},
     "output_type": "execute_result"
    }
   ],
   "source": [
    "# Get names of columns having less than 10 different values\n",
    "quasiCols=[col for col in X.columns if len(X[col].unique())<10]\n",
    "quasiCols"
   ]
  },
  {
   "cell_type": "markdown",
   "metadata": {
    "colab_type": "text",
    "id": "vxtrfr4cMIFU"
   },
   "source": [
    "## Duplicated Features"
   ]
  },
  {
   "cell_type": "markdown",
   "metadata": {
    "colab_type": "text",
    "id": "uUnb3wysMJFb"
   },
   "source": [
    "Often datasets contain one or more features that show the same values across all the observations. This means that both features are in essence identical."
   ]
  },
  {
   "cell_type": "code",
   "execution_count": 12,
   "metadata": {
    "colab": {},
    "colab_type": "code",
    "id": "NfVcV7uBMOmW"
   },
   "outputs": [],
   "source": [
    "def getDuplicateColumns(df):\n",
    "    '''\n",
    "    Get a list of duplicate columns.\n",
    "    It will iterate over all the columns in dataframe and find the columns whose contents are duplicate.\n",
    "    :param df: Dataframe object\n",
    "    :return: List of columns whose contents are duplicates.\n",
    "    '''\n",
    "    duplicateColumnNames = set()\n",
    "    # Iterate over all the columns in dataframe\n",
    "    for x in range(df.shape[1]):\n",
    "        # Select column at xth index.\n",
    "        col = df.iloc[:, x]\n",
    "        # Iterate over all the columns in DataFrame from (x+1)th index till end\n",
    "        for y in range(x + 1, df.shape[1]):\n",
    "            # Select column at yth index.\n",
    "            otherCol = df.iloc[:, y]\n",
    "            # Check if two columns at x 7 y index are equal\n",
    "            if col.equals(otherCol):\n",
    "                duplicateColumnNames.add(df.columns.values[y])\n",
    " \n",
    "    return list(duplicateColumnNames)"
   ]
  },
  {
   "cell_type": "code",
   "execution_count": 13,
   "metadata": {
    "colab": {
     "base_uri": "https://localhost:8080/",
     "height": 34
    },
    "colab_type": "code",
    "id": "efQZKutIMQ0P",
    "outputId": "69f6d026-a544-4196-d999-9b8ba7580a03"
   },
   "outputs": [
    {
     "name": "stdout",
     "output_type": "stream",
     "text": [
      "Duplicate Columns are as follows:\n"
     ]
    }
   ],
   "source": [
    "# Get list of duplicate columns\n",
    "duplicateColumnNames = getDuplicateColumns(X)\n",
    " \n",
    "print('Duplicate Columns are as follows:')\n",
    "for col in duplicateColumnNames:\n",
    "    print('Column name : ', col)"
   ]
  },
  {
   "cell_type": "markdown",
   "metadata": {
    "colab_type": "text",
    "id": "FaYaWIhuMUVz"
   },
   "source": [
    "We find no duplicated columns in our dataset.\n"
   ]
  },
  {
   "cell_type": "markdown",
   "metadata": {
    "colab_type": "text",
    "id": "y6QWm1JDcR1_"
   },
   "source": [
    "After checking the data, we can conclude that the dataset is clean (no missing values, duplicated columns,...) but it didn't help us to reduce the number of features for the analysis and we still have 753 features. It could be interesting to plot variable distributions to identify outliers or correlation matrix to remove features highly correlated but we still have too many features to do this at this stage. "
   ]
  },
  {
   "cell_type": "markdown",
   "metadata": {
    "colab_type": "text",
    "id": "xwY7vEEAXhXN"
   },
   "source": [
    "We will later use feature selection techniques (PCA, Univariate Feature Selection) to keep the most informative features for our model."
   ]
  },
  {
   "cell_type": "markdown",
   "metadata": {
    "colab_type": "text",
    "id": "-NeHDu2k_MIj"
   },
   "source": [
    "# Classification algorithms"
   ]
  },
  {
   "cell_type": "markdown",
   "metadata": {
    "colab_type": "text",
    "id": "YjGms0mOMm0e"
   },
   "source": [
    "The problem here is a standard binary classification. It has two classes and 753 numeric input variables of varying scales.\n",
    "We will select three algorithms for binary classification and compare their performances. We will test the following algorithms:\n",
    "* Logistic Regression\n",
    "* K-Nearest Neighbors\n",
    "* Decision Tree\n",
    "\n",
    "Each algorithm is given a short name, useful for summarizing results afterward."
   ]
  },
  {
   "cell_type": "code",
   "execution_count": 14,
   "metadata": {
    "colab": {},
    "colab_type": "code",
    "id": "C0Npoxxh_NJF"
   },
   "outputs": [],
   "source": [
    "# prepare models\n",
    "models = []\n",
    "models.append(('LR', LogisticRegression()))\n",
    "models.append(('KNN', KNeighborsClassifier()))\n",
    "models.append(('DT', DecisionTreeClassifier()))\n"
   ]
  },
  {
   "cell_type": "markdown",
   "metadata": {
    "colab_type": "text",
    "id": "X4IYIqScYfAw"
   },
   "source": [
    "We will bundle preprocessing, feature selection and modeling code in a pipeline to evaluate the performance of the three algorithms for our classification task. We use a cross validation procedure.\n",
    "\n",
    "The pipeline provides a handy tool called the FeatureUnion which allows the results of multiple feature selection and extraction procedures to be combined into a larger dataset on which a model can be trained. Importantly, all the feature extraction and the feature union occurs within each fold of the cross validation procedure."
   ]
  },
  {
   "cell_type": "code",
   "execution_count": 16,
   "metadata": {
    "colab": {
     "base_uri": "https://localhost:8080/",
     "height": 578
    },
    "colab_type": "code",
    "id": "9mgskJrB-i8C",
    "outputId": "703bb6cf-ea80-4f7f-aca0-88986c987d96"
   },
   "outputs": [
    {
     "name": "stdout",
     "output_type": "stream",
     "text": [
      "  Name  fit_time  score_time  test_accuracy  test_precision  test_recall  \\\n",
      "0   LR  0.109218    0.018996       0.792208        0.847458     0.877193   \n",
      "1   LR  0.087474    0.020110       0.844156        0.868852     0.929825   \n",
      "2   LR  0.087920    0.019515       0.855263        0.870968     0.947368   \n",
      "3   LR  0.089153    0.018514       0.855263        0.870968     0.947368   \n",
      "4   LR  0.092216    0.019428       0.773333        0.830508     0.875000   \n",
      "5   LR  0.085589    0.018869       0.760000        0.851852     0.821429   \n",
      "6   LR  0.088004    0.019516       0.853333        0.868852     0.946429   \n",
      "7   LR  0.089335    0.018776       0.880000        0.912281     0.928571   \n",
      "8   LR  0.088597    0.018943       0.773333        0.842105     0.857143   \n",
      "9   LR  0.090818    0.018698       0.800000        0.847458     0.892857   \n",
      "0  KNN  0.075421    0.062264       0.870130        0.898305     0.929825   \n",
      "1  KNN  0.065313    0.063805       0.870130        0.885246     0.947368   \n",
      "2  KNN  0.063382    0.060482       0.855263        0.883333     0.929825   \n",
      "3  KNN  0.064038    0.066689       0.868421        0.861538     0.982456   \n",
      "4  KNN  0.064876    0.073641       0.840000        0.843750     0.964286   \n",
      "5  KNN  0.064216    0.061489       0.853333        0.857143     0.964286   \n",
      "6  KNN  0.064533    0.063945       0.840000        0.854839     0.946429   \n",
      "7  KNN  0.064776    0.062267       0.853333        0.881356     0.928571   \n",
      "8  KNN  0.065001    0.061602       0.826667        0.864407     0.910714   \n",
      "9  KNN  0.064781    0.062491       0.840000        0.854839     0.946429   \n",
      "0   DT  0.131368    0.019351       0.766234        0.882353     0.789474   \n",
      "1   DT  0.124096    0.019248       0.818182        0.864407     0.894737   \n",
      "2   DT  0.149641    0.018741       0.855263        0.896552     0.912281   \n",
      "3   DT  0.113657    0.018959       0.815789        0.830769     0.947368   \n",
      "4   DT  0.126313    0.018853       0.786667        0.833333     0.892857   \n",
      "5   DT  0.134208    0.020515       0.826667        0.877193     0.892857   \n",
      "6   DT  0.120383    0.019143       0.773333        0.867925     0.821429   \n",
      "7   DT  0.133512    0.019168       0.800000        0.859649     0.875000   \n",
      "8   DT  0.114509    0.018834       0.826667        0.877193     0.892857   \n",
      "9   DT  0.138001    0.020295       0.800000        0.859649     0.875000   \n",
      "\n",
      "    test_f1  test_roc_auc  \n",
      "0  0.862069      0.876316  \n",
      "1  0.898305      0.816667  \n",
      "2  0.907563      0.919668  \n",
      "3  0.907563      0.867036  \n",
      "4  0.852174      0.849624  \n",
      "5  0.836364      0.889098  \n",
      "6  0.905983      0.876880  \n",
      "7  0.920354      0.906015  \n",
      "8  0.849558      0.827068  \n",
      "9  0.869565      0.804511  \n",
      "0  0.913793      0.910965  \n",
      "1  0.915254      0.912281  \n",
      "2  0.905983      0.919668  \n",
      "3  0.918033      0.938596  \n",
      "4  0.900000      0.885338  \n",
      "5  0.907563      0.851974  \n",
      "6  0.898305      0.906015  \n",
      "7  0.904348      0.914474  \n",
      "8  0.886957      0.920113  \n",
      "9  0.898305      0.894737  \n",
      "0  0.833333      0.744737  \n",
      "1  0.879310      0.747368  \n",
      "2  0.904348      0.798246  \n",
      "3  0.885246      0.684211  \n",
      "4  0.862069      0.683271  \n",
      "5  0.884956      0.762218  \n",
      "6  0.844037      0.726504  \n",
      "7  0.867257      0.726974  \n",
      "8  0.884956      0.762218  \n",
      "9  0.867257      0.726974  \n"
     ]
    }
   ],
   "source": [
    "warnings.filterwarnings(\"ignore\")\n",
    "\n",
    "# Preprocessing : standardisation \n",
    "scaler = StandardScaler()\n",
    "\n",
    "# Feature selection : FeatureUnion PCA and Univariate Feature Selection\n",
    "feature_union = FeatureUnion([('pca', PCA(n_components=5)),('select_best', SelectKBest(k=100))])\n",
    "\n",
    "# Scores to return\n",
    "scoring = ['accuracy', 'precision', 'recall', 'f1','roc_auc']\n",
    "\n",
    "df=pd.DataFrame() \n",
    "\n",
    "# Iterate on the three algo to test\n",
    "for name, model in models:\n",
    "  # create pipeline\n",
    "    estimators = []\n",
    "    estimators.append(('scaler', scaler))\n",
    "    estimators.append(('feature_union', feature_union))\n",
    "    estimators.append(('model', model))\n",
    "    pipe = Pipeline(estimators)\n",
    "\n",
    "    kfold = model_selection.StratifiedKFold(n_splits=10, shuffle=True, random_state=0) # keeps the class proportions the same across all of the folds\n",
    "    cv_results = cross_validate(pipe, X, y, cv=kfold, scoring=scoring)\n",
    "  \n",
    "    temp_df = pd.DataFrame() \n",
    "  \n",
    "    for key in cv_results.keys():\n",
    "        temp_df[key]=cv_results[key]\n",
    "        \n",
    "    temp_df.insert(0,\"Name\",name)\n",
    "\n",
    "    # Return a dataframe containing scoring of each CV of each model\n",
    "    df = df.append(temp_df)\n",
    "\n",
    "print(df)"
   ]
  },
  {
   "cell_type": "code",
   "execution_count": 17,
   "metadata": {
    "colab": {
     "base_uri": "https://localhost:8080/",
     "height": 284
    },
    "colab_type": "code",
    "id": "wR62cNtNA4h7",
    "outputId": "1ac83965-f622-43c6-ad8d-fdd5050abb27"
   },
   "outputs": [
    {
     "data": {
      "text/html": [
       "<div>\n",
       "<style scoped>\n",
       "    .dataframe tbody tr th:only-of-type {\n",
       "        vertical-align: middle;\n",
       "    }\n",
       "\n",
       "    .dataframe tbody tr th {\n",
       "        vertical-align: top;\n",
       "    }\n",
       "\n",
       "    .dataframe thead tr th {\n",
       "        text-align: left;\n",
       "    }\n",
       "\n",
       "    .dataframe thead tr:last-of-type th {\n",
       "        text-align: right;\n",
       "    }\n",
       "</style>\n",
       "<table border=\"1\" class=\"dataframe\">\n",
       "  <thead>\n",
       "    <tr>\n",
       "      <th></th>\n",
       "      <th colspan=\"2\" halign=\"left\">fit_time</th>\n",
       "      <th colspan=\"2\" halign=\"left\">score_time</th>\n",
       "      <th colspan=\"2\" halign=\"left\">test_accuracy</th>\n",
       "      <th colspan=\"2\" halign=\"left\">test_precision</th>\n",
       "      <th colspan=\"2\" halign=\"left\">test_recall</th>\n",
       "      <th colspan=\"2\" halign=\"left\">test_f1</th>\n",
       "      <th colspan=\"2\" halign=\"left\">test_roc_auc</th>\n",
       "    </tr>\n",
       "    <tr>\n",
       "      <th></th>\n",
       "      <th>mean</th>\n",
       "      <th>std</th>\n",
       "      <th>mean</th>\n",
       "      <th>std</th>\n",
       "      <th>mean</th>\n",
       "      <th>std</th>\n",
       "      <th>mean</th>\n",
       "      <th>std</th>\n",
       "      <th>mean</th>\n",
       "      <th>std</th>\n",
       "      <th>mean</th>\n",
       "      <th>std</th>\n",
       "      <th>mean</th>\n",
       "      <th>std</th>\n",
       "    </tr>\n",
       "    <tr>\n",
       "      <th>Name</th>\n",
       "      <th></th>\n",
       "      <th></th>\n",
       "      <th></th>\n",
       "      <th></th>\n",
       "      <th></th>\n",
       "      <th></th>\n",
       "      <th></th>\n",
       "      <th></th>\n",
       "      <th></th>\n",
       "      <th></th>\n",
       "      <th></th>\n",
       "      <th></th>\n",
       "      <th></th>\n",
       "      <th></th>\n",
       "    </tr>\n",
       "  </thead>\n",
       "  <tbody>\n",
       "    <tr>\n",
       "      <td>DT</td>\n",
       "      <td>0.128569</td>\n",
       "      <td>0.011102</td>\n",
       "      <td>0.019311</td>\n",
       "      <td>0.000611</td>\n",
       "      <td>0.806880</td>\n",
       "      <td>0.027104</td>\n",
       "      <td>0.864902</td>\n",
       "      <td>0.020641</td>\n",
       "      <td>0.879386</td>\n",
       "      <td>0.044678</td>\n",
       "      <td>0.871277</td>\n",
       "      <td>0.021151</td>\n",
       "      <td>0.736272</td>\n",
       "      <td>0.035229</td>\n",
       "    </tr>\n",
       "    <tr>\n",
       "      <td>KNN</td>\n",
       "      <td>0.065634</td>\n",
       "      <td>0.003483</td>\n",
       "      <td>0.063868</td>\n",
       "      <td>0.003841</td>\n",
       "      <td>0.851728</td>\n",
       "      <td>0.014960</td>\n",
       "      <td>0.868476</td>\n",
       "      <td>0.017430</td>\n",
       "      <td>0.945019</td>\n",
       "      <td>0.021246</td>\n",
       "      <td>0.904854</td>\n",
       "      <td>0.009430</td>\n",
       "      <td>0.905416</td>\n",
       "      <td>0.023696</td>\n",
       "    </tr>\n",
       "    <tr>\n",
       "      <td>LR</td>\n",
       "      <td>0.090832</td>\n",
       "      <td>0.006710</td>\n",
       "      <td>0.019137</td>\n",
       "      <td>0.000490</td>\n",
       "      <td>0.818689</td>\n",
       "      <td>0.043324</td>\n",
       "      <td>0.861130</td>\n",
       "      <td>0.022825</td>\n",
       "      <td>0.902318</td>\n",
       "      <td>0.044098</td>\n",
       "      <td>0.880950</td>\n",
       "      <td>0.030156</td>\n",
       "      <td>0.863288</td>\n",
       "      <td>0.038247</td>\n",
       "    </tr>\n",
       "  </tbody>\n",
       "</table>\n",
       "</div>"
      ],
      "text/plain": [
       "      fit_time           score_time           test_accuracy            \\\n",
       "          mean       std       mean       std          mean       std   \n",
       "Name                                                                    \n",
       "DT    0.128569  0.011102   0.019311  0.000611      0.806880  0.027104   \n",
       "KNN   0.065634  0.003483   0.063868  0.003841      0.851728  0.014960   \n",
       "LR    0.090832  0.006710   0.019137  0.000490      0.818689  0.043324   \n",
       "\n",
       "     test_precision           test_recall             test_f1            \\\n",
       "               mean       std        mean       std      mean       std   \n",
       "Name                                                                      \n",
       "DT         0.864902  0.020641    0.879386  0.044678  0.871277  0.021151   \n",
       "KNN        0.868476  0.017430    0.945019  0.021246  0.904854  0.009430   \n",
       "LR         0.861130  0.022825    0.902318  0.044098  0.880950  0.030156   \n",
       "\n",
       "     test_roc_auc            \n",
       "             mean       std  \n",
       "Name                         \n",
       "DT       0.736272  0.035229  \n",
       "KNN      0.905416  0.023696  \n",
       "LR       0.863288  0.038247  "
      ]
     },
     "execution_count": 17,
     "metadata": {},
     "output_type": "execute_result"
    }
   ],
   "source": [
    "grouped = df.groupby('Name')\n",
    "grouped.agg([np.mean, np.std])"
   ]
  },
  {
   "cell_type": "code",
   "execution_count": 18,
   "metadata": {
    "colab": {
     "base_uri": "https://localhost:8080/",
     "height": 996
    },
    "colab_type": "code",
    "id": "GfXgTJswE-M6",
    "outputId": "e22e2c06-b4ec-47aa-db34-9a1b31620836"
   },
   "outputs": [
    {
     "data": {
      "text/plain": [
       "<matplotlib.axes._subplots.AxesSubplot at 0x1a1a81a350>"
      ]
     },
     "execution_count": 18,
     "metadata": {},
     "output_type": "execute_result"
    },
    {
     "data": {
      "image/png": "[encoded data removed]",
      "text/plain": [
       "<Figure size 720x576 with 1 Axes>"
      ]
     },
     "metadata": {
      "needs_background": "light"
     },
     "output_type": "display_data"
    },
    {
     "data": {
      "image/png": "[encoded data removed]",
      "text/plain": [
       "<Figure size 720x576 with 1 Axes>"
      ]
     },
     "metadata": {
      "needs_background": "light"
     },
     "output_type": "display_data"
    }
   ],
   "source": [
    "# Plot mean scores across cross validation iterations for the three models \n",
    "dd1=pd.melt(df,id_vars=['Name'],value_vars=['fit_time','score_time'])\n",
    "dd2 = pd.melt(df,id_vars=['Name'],value_vars=['test_accuracy','test_precision','test_recall','test_f1','test_roc_auc'])\n",
    "\n",
    "plt.figure(figsize=(10,8))\n",
    "sb.boxplot(y='value',x='variable',data=dd1,orient=\"v\",hue='Name')\n",
    "plt.figure(figsize=(10,8))\n",
    "sb.boxplot(y='value',x='variable',data=dd2,orient=\"v\",hue='Name')"
   ]
  },
  {
   "cell_type": "markdown",
   "metadata": {
    "colab_type": "text",
    "id": "6Z46FLSjczM7"
   },
   "source": [
    "kNN algorithm provides the best results for almost each score. From these results, it would suggest that this algorithm is worthy of further study on this problem."
   ]
  },
  {
   "cell_type": "markdown",
   "metadata": {
    "colab_type": "text",
    "id": "_wGrwPXNdYJY"
   },
   "source": [
    "## Optimize hyper-parameters "
   ]
  },
  {
   "cell_type": "markdown",
   "metadata": {
    "colab_type": "text",
    "id": "tuZbqAxHiY32"
   },
   "source": [
    "We use a Grid Search to optimize parameters of a kNN classifier, in order to achieve the best performance (measured here in terms of F-score) for our classication task."
   ]
  },
  {
   "cell_type": "code",
   "execution_count": 21,
   "metadata": {
    "colab": {
     "base_uri": "https://localhost:8080/",
     "height": 578
    },
    "colab_type": "code",
    "id": "if9gLWU-73Mc",
    "outputId": "7206efbd-d390-4df1-cd6c-f29ffe855c28"
   },
   "outputs": [
    {
     "name": "stdout",
     "output_type": "stream",
     "text": [
      "Fitting 10 folds for each of 40 candidates, totalling 400 fits\n"
     ]
    },
    {
     "name": "stderr",
     "output_type": "stream",
     "text": [
      "[Parallel(n_jobs=-1)]: Using backend LokyBackend with 4 concurrent workers.\n",
      "[Parallel(n_jobs=-1)]: Done  42 tasks      | elapsed:    6.6s\n",
      "[Parallel(n_jobs=-1)]: Done 192 tasks      | elapsed:   12.6s\n",
      "[Parallel(n_jobs=-1)]: Done 400 out of 400 | elapsed:   20.8s finished\n"
     ]
    },
    {
     "data": {
      "text/plain": [
       "GridSearchCV(cv=StratifiedKFold(n_splits=10, random_state=0, shuffle=False),\n",
       "             error_score='raise-deprecating',\n",
       "             estimator=Pipeline(memory=None,\n",
       "                                steps=[('scaler',\n",
       "                                        StandardScaler(copy=True,\n",
       "                                                       with_mean=True,\n",
       "                                                       with_std=True)),\n",
       "                                       ('feature_union',\n",
       "                                        FeatureUnion(n_jobs=None,\n",
       "                                                     transformer_list=[('pca',\n",
       "                                                                        PCA(copy=True,\n",
       "                                                                            iterated_power='auto',\n",
       "                                                                            n_components=5,\n",
       "                                                                            random_state=None,\n",
       "                                                                            svd_...\n",
       "                                        KNeighborsClassifier(algorithm='auto',\n",
       "                                                             leaf_size=30,\n",
       "                                                             metric='minkowski',\n",
       "                                                             metric_params=None,\n",
       "                                                             n_jobs=None,\n",
       "                                                             n_neighbors=5, p=2,\n",
       "                                                             weights='uniform'))],\n",
       "                                verbose=False),\n",
       "             iid='warn', n_jobs=-1,\n",
       "             param_grid={'model__leaf_size': [5, 10, 20, 30, 50],\n",
       "                         'model__n_neighbors': [3, 5, 7, 9, 11, 13, 15, 17]},\n",
       "             pre_dispatch='2*n_jobs', refit=True, return_train_score=False,\n",
       "             scoring='f1', verbose=1)"
      ]
     },
     "execution_count": 21,
     "metadata": {},
     "output_type": "execute_result"
    }
   ],
   "source": [
    "# Split the entire dataset in a training and a test set\n",
    "X_train, X_test, y_train, y_test = train_test_split(X, y, test_size=0.2)\n",
    "\n",
    "# Preprocessing : standardisation \n",
    "scaler = StandardScaler()\n",
    "\n",
    "# Feature selection : FeatureUnion PCA and Univariate Feature Selection\n",
    "feature_union = FeatureUnion([('pca', PCA(n_components=5)),('select_best', SelectKBest(k=100))])\n",
    "\n",
    "# Model\n",
    "model = KNeighborsClassifier()\n",
    "\n",
    "# Pipeline\n",
    "estimators = []\n",
    "estimators.append(('scaler', scaler))\n",
    "estimators.append(('feature_union', feature_union))\n",
    "estimators.append(('model', model))\n",
    "pipe = Pipeline(estimators)\n",
    "\n",
    "# Score to optimize \n",
    "score = 'f1'\n",
    "\n",
    "# Values of parameters to evaluate \n",
    "k_range = [3,5,7,9,11,13,15,17]\n",
    "leaf_size = [5,10,20,30,50]\n",
    "\n",
    "params = {'model__n_neighbors':k_range,\n",
    "         'model__leaf_size':leaf_size}\n",
    "\n",
    "# Cross validation\n",
    "cross_validation = model_selection.StratifiedKFold(n_splits=10,random_state=0)\n",
    "\n",
    "# Conduct parameter optmization with Pipeline\n",
    "# Create a grid search object\n",
    "grid_search = GridSearchCV(pipe,\n",
    "                           param_grid=params,\n",
    "                           cv=cross_validation,\n",
    "                           verbose=1,\n",
    "                           scoring=score,\n",
    "                           n_jobs=-1)\n",
    "\n",
    "# Fit the grid search to training data\n",
    "grid_search.fit(X_train, y_train)"
   ]
  },
  {
   "cell_type": "code",
   "execution_count": 22,
   "metadata": {
    "colab": {
     "base_uri": "https://localhost:8080/",
     "height": 731
    },
    "colab_type": "code",
    "id": "ud9UTh2nAZIw",
    "outputId": "abbddef9-d953-44e2-8a2f-281ccb11681f"
   },
   "outputs": [
    {
     "name": "stdout",
     "output_type": "stream",
     "text": [
      "Best parameters on training set: {'model__leaf_size': 5, 'model__n_neighbors': 3}\n",
      "Results of cross validation :\n",
      "\tf1 = 0.901 (+/-0.049) for {'model__leaf_size': 5, 'model__n_neighbors': 3}\n",
      "\tf1 = 0.895 (+/-0.046) for {'model__leaf_size': 5, 'model__n_neighbors': 5}\n",
      "\tf1 = 0.888 (+/-0.056) for {'model__leaf_size': 5, 'model__n_neighbors': 7}\n",
      "\tf1 = 0.885 (+/-0.070) for {'model__leaf_size': 5, 'model__n_neighbors': 9}\n",
      "\tf1 = 0.886 (+/-0.069) for {'model__leaf_size': 5, 'model__n_neighbors': 11}\n",
      "\tf1 = 0.886 (+/-0.068) for {'model__leaf_size': 5, 'model__n_neighbors': 13}\n",
      "\tf1 = 0.886 (+/-0.068) for {'model__leaf_size': 5, 'model__n_neighbors': 15}\n",
      "\tf1 = 0.884 (+/-0.069) for {'model__leaf_size': 5, 'model__n_neighbors': 17}\n",
      "\tf1 = 0.901 (+/-0.049) for {'model__leaf_size': 10, 'model__n_neighbors': 3}\n",
      "\tf1 = 0.895 (+/-0.046) for {'model__leaf_size': 10, 'model__n_neighbors': 5}\n",
      "\tf1 = 0.888 (+/-0.056) for {'model__leaf_size': 10, 'model__n_neighbors': 7}\n",
      "\tf1 = 0.885 (+/-0.070) for {'model__leaf_size': 10, 'model__n_neighbors': 9}\n",
      "\tf1 = 0.886 (+/-0.069) for {'model__leaf_size': 10, 'model__n_neighbors': 11}\n",
      "\tf1 = 0.886 (+/-0.068) for {'model__leaf_size': 10, 'model__n_neighbors': 13}\n",
      "\tf1 = 0.886 (+/-0.068) for {'model__leaf_size': 10, 'model__n_neighbors': 15}\n",
      "\tf1 = 0.884 (+/-0.069) for {'model__leaf_size': 10, 'model__n_neighbors': 17}\n",
      "\tf1 = 0.901 (+/-0.049) for {'model__leaf_size': 20, 'model__n_neighbors': 3}\n",
      "\tf1 = 0.895 (+/-0.046) for {'model__leaf_size': 20, 'model__n_neighbors': 5}\n",
      "\tf1 = 0.888 (+/-0.056) for {'model__leaf_size': 20, 'model__n_neighbors': 7}\n",
      "\tf1 = 0.885 (+/-0.070) for {'model__leaf_size': 20, 'model__n_neighbors': 9}\n",
      "\tf1 = 0.886 (+/-0.069) for {'model__leaf_size': 20, 'model__n_neighbors': 11}\n",
      "\tf1 = 0.886 (+/-0.068) for {'model__leaf_size': 20, 'model__n_neighbors': 13}\n",
      "\tf1 = 0.886 (+/-0.068) for {'model__leaf_size': 20, 'model__n_neighbors': 15}\n",
      "\tf1 = 0.884 (+/-0.069) for {'model__leaf_size': 20, 'model__n_neighbors': 17}\n",
      "\tf1 = 0.901 (+/-0.049) for {'model__leaf_size': 30, 'model__n_neighbors': 3}\n",
      "\tf1 = 0.895 (+/-0.046) for {'model__leaf_size': 30, 'model__n_neighbors': 5}\n",
      "\tf1 = 0.888 (+/-0.056) for {'model__leaf_size': 30, 'model__n_neighbors': 7}\n",
      "\tf1 = 0.885 (+/-0.070) for {'model__leaf_size': 30, 'model__n_neighbors': 9}\n",
      "\tf1 = 0.886 (+/-0.069) for {'model__leaf_size': 30, 'model__n_neighbors': 11}\n",
      "\tf1 = 0.886 (+/-0.068) for {'model__leaf_size': 30, 'model__n_neighbors': 13}\n",
      "\tf1 = 0.886 (+/-0.068) for {'model__leaf_size': 30, 'model__n_neighbors': 15}\n",
      "\tf1 = 0.884 (+/-0.069) for {'model__leaf_size': 30, 'model__n_neighbors': 17}\n",
      "\tf1 = 0.901 (+/-0.049) for {'model__leaf_size': 50, 'model__n_neighbors': 3}\n",
      "\tf1 = 0.895 (+/-0.046) for {'model__leaf_size': 50, 'model__n_neighbors': 5}\n",
      "\tf1 = 0.888 (+/-0.056) for {'model__leaf_size': 50, 'model__n_neighbors': 7}\n",
      "\tf1 = 0.885 (+/-0.070) for {'model__leaf_size': 50, 'model__n_neighbors': 9}\n",
      "\tf1 = 0.886 (+/-0.069) for {'model__leaf_size': 50, 'model__n_neighbors': 11}\n",
      "\tf1 = 0.886 (+/-0.068) for {'model__leaf_size': 50, 'model__n_neighbors': 13}\n",
      "\tf1 = 0.886 (+/-0.068) for {'model__leaf_size': 50, 'model__n_neighbors': 15}\n",
      "\tf1 = 0.884 (+/-0.069) for {'model__leaf_size': 50, 'model__n_neighbors': 17}\n"
     ]
    }
   ],
   "source": [
    "# View The Best Parameters on training set\n",
    "print('Best parameters on training set: {}'.format(grid_search.best_params_))\n",
    "\n",
    "\n",
    "# Print the corresponding performances\n",
    "print(\"Results of cross validation :\")\n",
    "for mean, std, params in zip(grid_search.cv_results_['mean_test_score'],grid_search.cv_results_['std_test_score'],\n",
    "                             grid_search.cv_results_['params']):\n",
    "\n",
    "  print('\\t%s = %0.3f (+/-%0.03f) for %r'% (score, # score optimized (f1)\n",
    "  mean, # mean score\n",
    "  std * 2, # error \n",
    "  params # hyperparameter\n",
    "  ))"
   ]
  },
  {
   "cell_type": "code",
   "execution_count": 23,
   "metadata": {
    "colab": {
     "base_uri": "https://localhost:8080/",
     "height": 297
    },
    "colab_type": "code",
    "id": "znz9nIn51fkS",
    "outputId": "1869ae1f-de6b-4b83-f3d8-69d2622647b2"
   },
   "outputs": [
    {
     "data": {
      "text/plain": [
       "''"
      ]
     },
     "execution_count": 23,
     "metadata": {},
     "output_type": "execute_result"
    },
    {
     "data": {
      "image/png": "[encoded data removed]",
      "text/plain": [
       "<Figure size 432x288 with 2 Axes>"
      ]
     },
     "metadata": {
      "needs_background": "light"
     },
     "output_type": "display_data"
    }
   ],
   "source": [
    "#visualize the grid search to see how the parameters interact\n",
    "grid_visualization = grid_search.cv_results_['mean_test_score']\n",
    "grid_visualization.shape = (5, 8)\n",
    "sb.heatmap(grid_visualization, cmap='Blues', annot=True)\n",
    "plt.yticks(np.arange(5) + 0.5, grid_search.param_grid['model__leaf_size'])\n",
    "plt.xticks(np.arange(8) + 0.5, grid_search.param_grid['model__n_neighbors'])\n",
    "plt.ylabel('leaf_size')\n",
    "plt.xlabel('n_neighbors')\n",
    ";"
   ]
  },
  {
   "cell_type": "code",
   "execution_count": 24,
   "metadata": {
    "colab": {
     "base_uri": "https://localhost:8080/",
     "height": 34
    },
    "colab_type": "code",
    "id": "zUShz0nEBGxj",
    "outputId": "09b0f95f-8f38-4e54-ffda-d5acbb9a963b"
   },
   "outputs": [
    {
     "name": "stdout",
     "output_type": "stream",
     "text": [
      "F-Score on test set: 0.9068825910931175\n"
     ]
    }
   ],
   "source": [
    "# Performance of the best parameters selected from training on the test set\n",
    "from sklearn import metrics\n",
    "y_pred = grid_search.predict(X_test)\n",
    "print('F-Score on test set: {}'.format(metrics.f1_score(y_test, y_pred)))"
   ]
  },
  {
   "cell_type": "code",
   "execution_count": null,
   "metadata": {},
   "outputs": [],
   "source": []
  }
 ],
 "metadata": {
  "colab": {
   "collapsed_sections": [],
   "name": "pd_classifier.ipynb",
   "provenance": []
  },
  "kernelspec": {
   "display_name": "Python 3",
   "language": "python",
   "name": "python3"
  },
  "language_info": {
   "codemirror_mode": {
    "name": "ipython",
    "version": 3
   },
   "file_extension": ".py",
   "mimetype": "text/x-python",
   "name": "python",
   "nbconvert_exporter": "python",
   "pygments_lexer": "ipython3",
   "version": "3.7.4"
  }
 },
 "nbformat": 4,
 "nbformat_minor": 1
}
